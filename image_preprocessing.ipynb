{
 "cells": [
  {
   "cell_type": "code",
   "execution_count": 1,
   "metadata": {},
   "outputs": [],
   "source": [
    "import os\n",
    "import skimage\n",
    "import matplotlib.pyplot as plt\n",
    "import numpy as np\n",
    "curDir = os.getcwd()\n",
    "dataDir = os.path.join(curDir, \"screened_data/\")\n",
    "prefix = \"air_jordan_\"\n",
    "version = range(1, 24)"
   ]
  },
  {
   "cell_type": "code",
   "execution_count": 2,
   "metadata": {},
   "outputs": [
    {
     "name": "stdout",
     "output_type": "stream",
     "text": [
      "Working on Air Jordan:  1\n",
      "Working on Air Jordan:  2\n",
      "Working on Air Jordan:  3\n",
      "Working on Air Jordan:  4\n",
      "Working on Air Jordan:  5\n",
      "Working on Air Jordan:  6\n",
      "Working on Air Jordan:  7\n",
      "Working on Air Jordan:  8\n",
      "Working on Air Jordan:  9\n",
      "Working on Air Jordan:  10\n",
      "Working on Air Jordan:  11\n",
      "Working on Air Jordan:  12\n",
      "Working on Air Jordan:  13\n",
      "Working on Air Jordan:  14\n",
      "Working on Air Jordan:  15\n",
      "Working on Air Jordan:  16\n",
      "Working on Air Jordan:  17\n",
      "Working on Air Jordan:  18\n",
      "Working on Air Jordan:  19\n",
      "Working on Air Jordan:  20\n",
      "Working on Air Jordan:  21\n",
      "Working on Air Jordan:  22\n",
      "Working on Air Jordan:  23\n"
     ]
    }
   ],
   "source": [
    "# conver all images to 256x256 size with zero padding when needed\n",
    "index = 0\n",
    "for i in version:\n",
    "    print(\"Working on Air Jordan: \", i) \n",
    "    path = os.path.join(dataDir, prefix+str(i))\n",
    "    for r, d, f in os.walk(path):\n",
    "        for file in f:\n",
    "            file_name = os.path.join(r, file)\n",
    "            image = skimage.io.imread(file_name)\n",
    "            # convert grayscale images to rgb\n",
    "            if image.ndim ==2:\n",
    "                image = np.repeat(image[:, :, np.newaxis], 3, axis=2)\n",
    "            H, W = image.shape[0], image.shape[1]\n",
    "            if H>W:\n",
    "                H_new, W_new = 256, round(W/H*256)\n",
    "            else:\n",
    "                H_new, W_new = round(H/W*256), 256 \n",
    "            image = skimage.transform.resize(image, output_shape=(H_new, W_new), preserve_range=True)\n",
    "            # zero-pad the image\n",
    "            temp = np.zeros((256,256,image.shape[2]))\n",
    "            temp[:image.shape[0], :image.shape[1], :] = image\n",
    "            temp=temp.astype('uint8')\n",
    "#             plt.imshow(temp)\n",
    "            # sometimes the downloaded files have no extension which cause trouble for skimage\n",
    "            # might as well just save all as png\n",
    "            os.remove(file_name)\n",
    "            if file_name.split('.')[-1]!='png':\n",
    "                name_l = file_name.split('.')\n",
    "                name_l[-1] = 'png'\n",
    "                file_name = '.'.join(name_l)\n",
    "            skimage.io.imsave(file_name, temp)"
   ]
  },
  {
   "cell_type": "code",
   "execution_count": 3,
   "metadata": {},
   "outputs": [
    {
     "name": "stdout",
     "output_type": "stream",
     "text": [
      "/home/nan/sneaker_ai/screened_data/air_jordan_23/air_jordan_23_276.png\n"
     ]
    }
   ],
   "source": [
    "print(file_name)"
   ]
  },
  {
   "cell_type": "code",
   "execution_count": 4,
   "metadata": {},
   "outputs": [
    {
     "data": {
      "text/plain": [
       "'/home/nan/sneaker_ai/screened_data/air_jordan_23/air_jordan_23_276.png'"
      ]
     },
     "execution_count": 4,
     "metadata": {},
     "output_type": "execute_result"
    }
   ],
   "source": [
    "if file_name.split('.')[-1]!='png':\n",
    "    name_l = file_name.split('.')\n",
    "    name_l[-1] = 'png'\n",
    "    file_name = '.'.join(name_l)\n",
    "file_name"
   ]
  },
  {
   "cell_type": "code",
   "execution_count": null,
   "metadata": {},
   "outputs": [],
   "source": []
  }
 ],
 "metadata": {
  "kernelspec": {
   "display_name": "Python 3",
   "language": "python",
   "name": "python3"
  },
  "language_info": {
   "codemirror_mode": {
    "name": "ipython",
    "version": 3
   },
   "file_extension": ".py",
   "mimetype": "text/x-python",
   "name": "python",
   "nbconvert_exporter": "python",
   "pygments_lexer": "ipython3",
   "version": "3.6.8"
  }
 },
 "nbformat": 4,
 "nbformat_minor": 2
}
